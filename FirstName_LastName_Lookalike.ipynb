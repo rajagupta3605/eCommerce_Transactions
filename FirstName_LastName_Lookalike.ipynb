{
 "cells": [
  {
   "cell_type": "code",
   "execution_count": 1,
   "id": "d9dd0897-ac7d-449a-844e-ffac9ba6dd0e",
   "metadata": {},
   "outputs": [],
   "source": [
    "import pandas as pd\n",
    "from sklearn.preprocessing import MinMaxScaler\n",
    "from sklearn.metrics.pairwise import cosine_similarity"
   ]
  },
  {
   "cell_type": "code",
   "execution_count": 2,
   "id": "f4db0dbd-8669-40fa-aba4-f18986415756",
   "metadata": {},
   "outputs": [],
   "source": [
    "customers = pd.read_csv('Customers.csv')\n",
    "products = pd.read_csv('Products.csv')\n",
    "transactions = pd.read_csv('Transactions.csv')"
   ]
  },
  {
   "cell_type": "code",
   "execution_count": 3,
   "id": "b197dc7b-17cb-42e2-b509-d9a7fb690bef",
   "metadata": {},
   "outputs": [],
   "source": [
    "transactions =  transactions.merge(products, on='ProductID', how='left')\n",
    "df = transactions.merge(customers, on='CustomerID', how='left')"
   ]
  },
  {
   "cell_type": "markdown",
   "id": "35e6e271-2502-4adb-9a1b-c0559b5dfcb1",
   "metadata": {},
   "source": [
    "Feature Extraction"
   ]
  },
  {
   "cell_type": "code",
   "execution_count": 4,
   "id": "c9d9721a-8b1c-48b8-8dce-929629a0adbc",
   "metadata": {},
   "outputs": [],
   "source": [
    "# 1. Total transaction and spending\n",
    "customer_features = df.groupby('CustomerID').agg(\n",
    "    total_transactions=('TransactionID','count'),\n",
    "    total_spending=('TotalValue','sum'),\n",
    "    avg_transaction_value=('TotalValue','mean')\n",
    ").reset_index()"
   ]
  },
  {
   "cell_type": "code",
   "execution_count": 5,
   "id": "2ef2b52c-1f6a-4d2e-a1b4-e957d900aecb",
   "metadata": {},
   "outputs": [
    {
     "name": "stdout",
     "output_type": "stream",
     "text": [
      "    CustomerID  total_transactions  total_spending  avg_transaction_value\n",
      "0        C0001                   5         3354.52             670.904000\n",
      "1        C0002                   4         1862.74             465.685000\n",
      "2        C0003                   4         2725.38             681.345000\n",
      "3        C0004                   8         5354.88             669.360000\n",
      "4        C0005                   3         2034.24             678.080000\n",
      "..         ...                 ...             ...                    ...\n",
      "194      C0196                   4         4982.88            1245.720000\n",
      "195      C0197                   3         1928.65             642.883333\n",
      "196      C0198                   2          931.83             465.915000\n",
      "197      C0199                   4         1979.28             494.820000\n",
      "198      C0200                   5         4758.60             951.720000\n",
      "\n",
      "[199 rows x 4 columns]\n"
     ]
    }
   ],
   "source": [
    "print(customer_features)"
   ]
  },
  {
   "cell_type": "code",
   "execution_count": 6,
   "id": "674bd12e-285b-4aa7-8914-f609cbecfaa6",
   "metadata": {},
   "outputs": [],
   "source": [
    "# 2. Most purchased product category\n",
    "top_category = df.groupby(['CustomerID','Category']).agg(total=('Quantity','sum')).reset_index()"
   ]
  },
  {
   "cell_type": "code",
   "execution_count": 7,
   "id": "1d8a83ca-28c6-4e75-a71a-19d00556ae7d",
   "metadata": {},
   "outputs": [
    {
     "data": {
      "text/html": [
       "<div>\n",
       "<style scoped>\n",
       "    .dataframe tbody tr th:only-of-type {\n",
       "        vertical-align: middle;\n",
       "    }\n",
       "\n",
       "    .dataframe tbody tr th {\n",
       "        vertical-align: top;\n",
       "    }\n",
       "\n",
       "    .dataframe thead th {\n",
       "        text-align: right;\n",
       "    }\n",
       "</style>\n",
       "<table border=\"1\" class=\"dataframe\">\n",
       "  <thead>\n",
       "    <tr style=\"text-align: right;\">\n",
       "      <th></th>\n",
       "      <th>CustomerID</th>\n",
       "      <th>Category</th>\n",
       "      <th>total</th>\n",
       "    </tr>\n",
       "  </thead>\n",
       "  <tbody>\n",
       "    <tr>\n",
       "      <th>0</th>\n",
       "      <td>C0001</td>\n",
       "      <td>Books</td>\n",
       "      <td>2</td>\n",
       "    </tr>\n",
       "    <tr>\n",
       "      <th>1</th>\n",
       "      <td>C0001</td>\n",
       "      <td>Electronics</td>\n",
       "      <td>7</td>\n",
       "    </tr>\n",
       "    <tr>\n",
       "      <th>2</th>\n",
       "      <td>C0001</td>\n",
       "      <td>Home Decor</td>\n",
       "      <td>3</td>\n",
       "    </tr>\n",
       "    <tr>\n",
       "      <th>3</th>\n",
       "      <td>C0002</td>\n",
       "      <td>Clothing</td>\n",
       "      <td>4</td>\n",
       "    </tr>\n",
       "    <tr>\n",
       "      <th>4</th>\n",
       "      <td>C0002</td>\n",
       "      <td>Home Decor</td>\n",
       "      <td>6</td>\n",
       "    </tr>\n",
       "    <tr>\n",
       "      <th>...</th>\n",
       "      <td>...</td>\n",
       "      <td>...</td>\n",
       "      <td>...</td>\n",
       "    </tr>\n",
       "    <tr>\n",
       "      <th>562</th>\n",
       "      <td>C0199</td>\n",
       "      <td>Home Decor</td>\n",
       "      <td>6</td>\n",
       "    </tr>\n",
       "    <tr>\n",
       "      <th>563</th>\n",
       "      <td>C0200</td>\n",
       "      <td>Books</td>\n",
       "      <td>4</td>\n",
       "    </tr>\n",
       "    <tr>\n",
       "      <th>564</th>\n",
       "      <td>C0200</td>\n",
       "      <td>Clothing</td>\n",
       "      <td>7</td>\n",
       "    </tr>\n",
       "    <tr>\n",
       "      <th>565</th>\n",
       "      <td>C0200</td>\n",
       "      <td>Electronics</td>\n",
       "      <td>1</td>\n",
       "    </tr>\n",
       "    <tr>\n",
       "      <th>566</th>\n",
       "      <td>C0200</td>\n",
       "      <td>Home Decor</td>\n",
       "      <td>4</td>\n",
       "    </tr>\n",
       "  </tbody>\n",
       "</table>\n",
       "<p>567 rows × 3 columns</p>\n",
       "</div>"
      ],
      "text/plain": [
       "    CustomerID     Category  total\n",
       "0        C0001        Books      2\n",
       "1        C0001  Electronics      7\n",
       "2        C0001   Home Decor      3\n",
       "3        C0002     Clothing      4\n",
       "4        C0002   Home Decor      6\n",
       "..         ...          ...    ...\n",
       "562      C0199   Home Decor      6\n",
       "563      C0200        Books      4\n",
       "564      C0200     Clothing      7\n",
       "565      C0200  Electronics      1\n",
       "566      C0200   Home Decor      4\n",
       "\n",
       "[567 rows x 3 columns]"
      ]
     },
     "execution_count": 7,
     "metadata": {},
     "output_type": "execute_result"
    }
   ],
   "source": [
    "top_category"
   ]
  },
  {
   "cell_type": "code",
   "execution_count": 22,
   "id": "3f5aaaa3-475b-450c-bdd3-8f65d802006a",
   "metadata": {},
   "outputs": [
    {
     "ename": "KeyError",
     "evalue": "'Column not found: Total'",
     "output_type": "error",
     "traceback": [
      "\u001b[1;31m---------------------------------------------------------------------------\u001b[0m",
      "\u001b[1;31mKeyError\u001b[0m                                  Traceback (most recent call last)",
      "Cell \u001b[1;32mIn[22], line 1\u001b[0m\n\u001b[1;32m----> 1\u001b[0m top_category \u001b[38;5;241m=\u001b[39m top_category\u001b[38;5;241m.\u001b[39mloc[top_category\u001b[38;5;241m.\u001b[39mgroupby(\u001b[38;5;124m'\u001b[39m\u001b[38;5;124mCustomerID\u001b[39m\u001b[38;5;124m'\u001b[39m)[\u001b[38;5;124m'\u001b[39m\u001b[38;5;124mTotal\u001b[39m\u001b[38;5;124m'\u001b[39m]\u001b[38;5;241m.\u001b[39midxmax()]\n",
      "File \u001b[1;32m~\\anaconda3\\Lib\\site-packages\\pandas\\core\\groupby\\generic.py:1964\u001b[0m, in \u001b[0;36mDataFrameGroupBy.__getitem__\u001b[1;34m(self, key)\u001b[0m\n\u001b[0;32m   1957\u001b[0m \u001b[38;5;28;01mif\u001b[39;00m \u001b[38;5;28misinstance\u001b[39m(key, \u001b[38;5;28mtuple\u001b[39m) \u001b[38;5;129;01mand\u001b[39;00m \u001b[38;5;28mlen\u001b[39m(key) \u001b[38;5;241m>\u001b[39m \u001b[38;5;241m1\u001b[39m:\n\u001b[0;32m   1958\u001b[0m     \u001b[38;5;66;03m# if len == 1, then it becomes a SeriesGroupBy and this is actually\u001b[39;00m\n\u001b[0;32m   1959\u001b[0m     \u001b[38;5;66;03m# valid syntax, so don't raise\u001b[39;00m\n\u001b[0;32m   1960\u001b[0m     \u001b[38;5;28;01mraise\u001b[39;00m \u001b[38;5;167;01mValueError\u001b[39;00m(\n\u001b[0;32m   1961\u001b[0m         \u001b[38;5;124m\"\u001b[39m\u001b[38;5;124mCannot subset columns with a tuple with more than one element. \u001b[39m\u001b[38;5;124m\"\u001b[39m\n\u001b[0;32m   1962\u001b[0m         \u001b[38;5;124m\"\u001b[39m\u001b[38;5;124mUse a list instead.\u001b[39m\u001b[38;5;124m\"\u001b[39m\n\u001b[0;32m   1963\u001b[0m     )\n\u001b[1;32m-> 1964\u001b[0m \u001b[38;5;28;01mreturn\u001b[39;00m \u001b[38;5;28msuper\u001b[39m()\u001b[38;5;241m.\u001b[39m\u001b[38;5;21m__getitem__\u001b[39m(key)\n",
      "File \u001b[1;32m~\\anaconda3\\Lib\\site-packages\\pandas\\core\\base.py:244\u001b[0m, in \u001b[0;36mSelectionMixin.__getitem__\u001b[1;34m(self, key)\u001b[0m\n\u001b[0;32m    242\u001b[0m \u001b[38;5;28;01melse\u001b[39;00m:\n\u001b[0;32m    243\u001b[0m     \u001b[38;5;28;01mif\u001b[39;00m key \u001b[38;5;129;01mnot\u001b[39;00m \u001b[38;5;129;01min\u001b[39;00m \u001b[38;5;28mself\u001b[39m\u001b[38;5;241m.\u001b[39mobj:\n\u001b[1;32m--> 244\u001b[0m         \u001b[38;5;28;01mraise\u001b[39;00m \u001b[38;5;167;01mKeyError\u001b[39;00m(\u001b[38;5;124mf\u001b[39m\u001b[38;5;124m\"\u001b[39m\u001b[38;5;124mColumn not found: \u001b[39m\u001b[38;5;132;01m{\u001b[39;00mkey\u001b[38;5;132;01m}\u001b[39;00m\u001b[38;5;124m\"\u001b[39m)\n\u001b[0;32m    245\u001b[0m     ndim \u001b[38;5;241m=\u001b[39m \u001b[38;5;28mself\u001b[39m\u001b[38;5;241m.\u001b[39mobj[key]\u001b[38;5;241m.\u001b[39mndim\n\u001b[0;32m    246\u001b[0m     \u001b[38;5;28;01mreturn\u001b[39;00m \u001b[38;5;28mself\u001b[39m\u001b[38;5;241m.\u001b[39m_gotitem(key, ndim\u001b[38;5;241m=\u001b[39mndim)\n",
      "\u001b[1;31mKeyError\u001b[0m: 'Column not found: Total'"
     ]
    }
   ],
   "source": [
    "top_category = top_category.loc[top_category.groupby('CustomerID')['total'].idxmax()]"
   ]
  },
  {
   "cell_type": "code",
   "execution_count": 9,
   "id": "c7b1016c-a723-4cdf-888e-e777cb1df967",
   "metadata": {},
   "outputs": [
    {
     "data": {
      "text/html": [
       "<div>\n",
       "<style scoped>\n",
       "    .dataframe tbody tr th:only-of-type {\n",
       "        vertical-align: middle;\n",
       "    }\n",
       "\n",
       "    .dataframe tbody tr th {\n",
       "        vertical-align: top;\n",
       "    }\n",
       "\n",
       "    .dataframe thead th {\n",
       "        text-align: right;\n",
       "    }\n",
       "</style>\n",
       "<table border=\"1\" class=\"dataframe\">\n",
       "  <thead>\n",
       "    <tr style=\"text-align: right;\">\n",
       "      <th></th>\n",
       "      <th>CustomerID</th>\n",
       "      <th>Category</th>\n",
       "      <th>total</th>\n",
       "    </tr>\n",
       "  </thead>\n",
       "  <tbody>\n",
       "    <tr>\n",
       "      <th>1</th>\n",
       "      <td>C0001</td>\n",
       "      <td>Electronics</td>\n",
       "      <td>7</td>\n",
       "    </tr>\n",
       "    <tr>\n",
       "      <th>4</th>\n",
       "      <td>C0002</td>\n",
       "      <td>Home Decor</td>\n",
       "      <td>6</td>\n",
       "    </tr>\n",
       "    <tr>\n",
       "      <th>7</th>\n",
       "      <td>C0003</td>\n",
       "      <td>Home Decor</td>\n",
       "      <td>6</td>\n",
       "    </tr>\n",
       "    <tr>\n",
       "      <th>10</th>\n",
       "      <td>C0004</td>\n",
       "      <td>Home Decor</td>\n",
       "      <td>9</td>\n",
       "    </tr>\n",
       "    <tr>\n",
       "      <th>11</th>\n",
       "      <td>C0005</td>\n",
       "      <td>Electronics</td>\n",
       "      <td>4</td>\n",
       "    </tr>\n",
       "    <tr>\n",
       "      <th>...</th>\n",
       "      <td>...</td>\n",
       "      <td>...</td>\n",
       "      <td>...</td>\n",
       "    </tr>\n",
       "    <tr>\n",
       "      <th>556</th>\n",
       "      <td>C0196</td>\n",
       "      <td>Home Decor</td>\n",
       "      <td>5</td>\n",
       "    </tr>\n",
       "    <tr>\n",
       "      <th>557</th>\n",
       "      <td>C0197</td>\n",
       "      <td>Electronics</td>\n",
       "      <td>6</td>\n",
       "    </tr>\n",
       "    <tr>\n",
       "      <th>559</th>\n",
       "      <td>C0198</td>\n",
       "      <td>Clothing</td>\n",
       "      <td>2</td>\n",
       "    </tr>\n",
       "    <tr>\n",
       "      <th>562</th>\n",
       "      <td>C0199</td>\n",
       "      <td>Home Decor</td>\n",
       "      <td>6</td>\n",
       "    </tr>\n",
       "    <tr>\n",
       "      <th>564</th>\n",
       "      <td>C0200</td>\n",
       "      <td>Clothing</td>\n",
       "      <td>7</td>\n",
       "    </tr>\n",
       "  </tbody>\n",
       "</table>\n",
       "<p>199 rows × 3 columns</p>\n",
       "</div>"
      ],
      "text/plain": [
       "    CustomerID     Category  total\n",
       "1        C0001  Electronics      7\n",
       "4        C0002   Home Decor      6\n",
       "7        C0003   Home Decor      6\n",
       "10       C0004   Home Decor      9\n",
       "11       C0005  Electronics      4\n",
       "..         ...          ...    ...\n",
       "556      C0196   Home Decor      5\n",
       "557      C0197  Electronics      6\n",
       "559      C0198     Clothing      2\n",
       "562      C0199   Home Decor      6\n",
       "564      C0200     Clothing      7\n",
       "\n",
       "[199 rows x 3 columns]"
      ]
     },
     "execution_count": 9,
     "metadata": {},
     "output_type": "execute_result"
    }
   ],
   "source": [
    "top_category"
   ]
  },
  {
   "cell_type": "code",
   "execution_count": 10,
   "id": "633c8037-6240-48d5-9c35-e27f43b6a702",
   "metadata": {},
   "outputs": [],
   "source": [
    "customer_features = customer_features.merge(top_category[['CustomerID','Category']], on='CustomerID', how='left')"
   ]
  },
  {
   "cell_type": "code",
   "execution_count": 11,
   "id": "76e8a78b-7d3f-45d2-9b25-43e4f6d3fb41",
   "metadata": {},
   "outputs": [
    {
     "data": {
      "text/html": [
       "<div>\n",
       "<style scoped>\n",
       "    .dataframe tbody tr th:only-of-type {\n",
       "        vertical-align: middle;\n",
       "    }\n",
       "\n",
       "    .dataframe tbody tr th {\n",
       "        vertical-align: top;\n",
       "    }\n",
       "\n",
       "    .dataframe thead th {\n",
       "        text-align: right;\n",
       "    }\n",
       "</style>\n",
       "<table border=\"1\" class=\"dataframe\">\n",
       "  <thead>\n",
       "    <tr style=\"text-align: right;\">\n",
       "      <th></th>\n",
       "      <th>CustomerID</th>\n",
       "      <th>total_transactions</th>\n",
       "      <th>total_spending</th>\n",
       "      <th>avg_transaction_value</th>\n",
       "      <th>Category</th>\n",
       "    </tr>\n",
       "  </thead>\n",
       "  <tbody>\n",
       "    <tr>\n",
       "      <th>0</th>\n",
       "      <td>C0001</td>\n",
       "      <td>5</td>\n",
       "      <td>3354.52</td>\n",
       "      <td>670.904000</td>\n",
       "      <td>Electronics</td>\n",
       "    </tr>\n",
       "    <tr>\n",
       "      <th>1</th>\n",
       "      <td>C0002</td>\n",
       "      <td>4</td>\n",
       "      <td>1862.74</td>\n",
       "      <td>465.685000</td>\n",
       "      <td>Home Decor</td>\n",
       "    </tr>\n",
       "    <tr>\n",
       "      <th>2</th>\n",
       "      <td>C0003</td>\n",
       "      <td>4</td>\n",
       "      <td>2725.38</td>\n",
       "      <td>681.345000</td>\n",
       "      <td>Home Decor</td>\n",
       "    </tr>\n",
       "    <tr>\n",
       "      <th>3</th>\n",
       "      <td>C0004</td>\n",
       "      <td>8</td>\n",
       "      <td>5354.88</td>\n",
       "      <td>669.360000</td>\n",
       "      <td>Home Decor</td>\n",
       "    </tr>\n",
       "    <tr>\n",
       "      <th>4</th>\n",
       "      <td>C0005</td>\n",
       "      <td>3</td>\n",
       "      <td>2034.24</td>\n",
       "      <td>678.080000</td>\n",
       "      <td>Electronics</td>\n",
       "    </tr>\n",
       "    <tr>\n",
       "      <th>...</th>\n",
       "      <td>...</td>\n",
       "      <td>...</td>\n",
       "      <td>...</td>\n",
       "      <td>...</td>\n",
       "      <td>...</td>\n",
       "    </tr>\n",
       "    <tr>\n",
       "      <th>194</th>\n",
       "      <td>C0196</td>\n",
       "      <td>4</td>\n",
       "      <td>4982.88</td>\n",
       "      <td>1245.720000</td>\n",
       "      <td>Home Decor</td>\n",
       "    </tr>\n",
       "    <tr>\n",
       "      <th>195</th>\n",
       "      <td>C0197</td>\n",
       "      <td>3</td>\n",
       "      <td>1928.65</td>\n",
       "      <td>642.883333</td>\n",
       "      <td>Electronics</td>\n",
       "    </tr>\n",
       "    <tr>\n",
       "      <th>196</th>\n",
       "      <td>C0198</td>\n",
       "      <td>2</td>\n",
       "      <td>931.83</td>\n",
       "      <td>465.915000</td>\n",
       "      <td>Clothing</td>\n",
       "    </tr>\n",
       "    <tr>\n",
       "      <th>197</th>\n",
       "      <td>C0199</td>\n",
       "      <td>4</td>\n",
       "      <td>1979.28</td>\n",
       "      <td>494.820000</td>\n",
       "      <td>Home Decor</td>\n",
       "    </tr>\n",
       "    <tr>\n",
       "      <th>198</th>\n",
       "      <td>C0200</td>\n",
       "      <td>5</td>\n",
       "      <td>4758.60</td>\n",
       "      <td>951.720000</td>\n",
       "      <td>Clothing</td>\n",
       "    </tr>\n",
       "  </tbody>\n",
       "</table>\n",
       "<p>199 rows × 5 columns</p>\n",
       "</div>"
      ],
      "text/plain": [
       "    CustomerID  total_transactions  total_spending  avg_transaction_value  \\\n",
       "0        C0001                   5         3354.52             670.904000   \n",
       "1        C0002                   4         1862.74             465.685000   \n",
       "2        C0003                   4         2725.38             681.345000   \n",
       "3        C0004                   8         5354.88             669.360000   \n",
       "4        C0005                   3         2034.24             678.080000   \n",
       "..         ...                 ...             ...                    ...   \n",
       "194      C0196                   4         4982.88            1245.720000   \n",
       "195      C0197                   3         1928.65             642.883333   \n",
       "196      C0198                   2          931.83             465.915000   \n",
       "197      C0199                   4         1979.28             494.820000   \n",
       "198      C0200                   5         4758.60             951.720000   \n",
       "\n",
       "        Category  \n",
       "0    Electronics  \n",
       "1     Home Decor  \n",
       "2     Home Decor  \n",
       "3     Home Decor  \n",
       "4    Electronics  \n",
       "..           ...  \n",
       "194   Home Decor  \n",
       "195  Electronics  \n",
       "196     Clothing  \n",
       "197   Home Decor  \n",
       "198     Clothing  \n",
       "\n",
       "[199 rows x 5 columns]"
      ]
     },
     "execution_count": 11,
     "metadata": {},
     "output_type": "execute_result"
    }
   ],
   "source": [
    "customer_features"
   ]
  },
  {
   "cell_type": "markdown",
   "id": "e3bac21b-fe31-437e-b2d2-0851db673717",
   "metadata": {},
   "source": [
    "# 3. Region and SignupDate"
   ]
  },
  {
   "cell_type": "code",
   "execution_count": 12,
   "id": "e5195d57-2f4a-4f5e-82e9-5531b2807ef3",
   "metadata": {},
   "outputs": [],
   "source": [
    "customers['SignupDate'] = pd.to_datetime(customers['SignupDate'])"
   ]
  },
  {
   "cell_type": "code",
   "execution_count": 13,
   "id": "802fedd5-af9b-460a-83fb-dab37f76284a",
   "metadata": {},
   "outputs": [
    {
     "data": {
      "text/plain": [
       "0   2022-07-10\n",
       "1   2022-02-13\n",
       "2   2024-03-07\n",
       "3   2022-10-09\n",
       "4   2022-08-15\n",
       "Name: SignupDate, dtype: datetime64[ns]"
      ]
     },
     "execution_count": 13,
     "metadata": {},
     "output_type": "execute_result"
    }
   ],
   "source": [
    "customers['SignupDate'].head(5)"
   ]
  },
  {
   "cell_type": "code",
   "execution_count": 14,
   "id": "0b7411b0-df31-4945-b430-8548467a63e4",
   "metadata": {},
   "outputs": [],
   "source": [
    "customers['SignupDate'] = pd.to_datetime(customers['SignupDate']).astype('int64')//10**9\n",
    "customer_features=customer_features.merge(customers[['CustomerID','Region','SignupDate']], on='CustomerID', how='left')\n",
    "customer_features=pd.get_dummies(customer_features, columns=['Region','Category'],drop_first=True)"
   ]
  },
  {
   "cell_type": "code",
   "execution_count": 15,
   "id": "026fb40e-cf65-4851-9a99-d52f71b25e5f",
   "metadata": {},
   "outputs": [],
   "source": [
    "scalar = MinMaxScaler()"
   ]
  },
  {
   "cell_type": "code",
   "execution_count": 16,
   "id": "4fa95da0-51c1-4692-9fcf-caa658ac0c59",
   "metadata": {},
   "outputs": [],
   "source": [
    "num_features = ['total_transactions','total_spending','avg_transaction_value','SignupDate']\n",
    "customer_features[num_features] = scalar.fit_transform(customer_features[num_features])"
   ]
  },
  {
   "cell_type": "code",
   "execution_count": 18,
   "id": "3e9283f6-a75e-4640-b308-37f0abc58c10",
   "metadata": {},
   "outputs": [
    {
     "name": "stdout",
     "output_type": "stream",
     "text": [
      "   total_transactions  total_spending  avg_transaction_value  SignupDate\n",
      "0                 0.4        0.308942               0.474336    0.157796\n",
      "1                 0.3        0.168095               0.308940    0.020542\n",
      "2                 0.3        0.249541               0.482751    0.723623\n",
      "3                 0.7        0.497806               0.473092    0.242764\n",
      "4                 0.2        0.184287               0.480120    0.191410\n"
     ]
    }
   ],
   "source": [
    "print(customer_features[num_features].head())"
   ]
  },
  {
   "cell_type": "code",
   "execution_count": 45,
   "id": "a70c7b29-772b-4c5f-9e73-f47d5a449f19",
   "metadata": {},
   "outputs": [],
   "source": [
    "features_matrix =  customer_features.drop(['CustomerID'],axis=1).values\n",
    "similarity_matrix = cosine_similarity(features_matrix)"
   ]
  },
  {
   "cell_type": "code",
   "execution_count": 46,
   "id": "5f95ec4e-22db-41bb-ae8e-45ab87f55e03",
   "metadata": {},
   "outputs": [],
   "source": [
    "lookalike_results={}"
   ]
  },
  {
   "cell_type": "code",
   "execution_count": 49,
   "id": "4ed20903-8764-4374-83f2-c0bc21ec3ec9",
   "metadata": {},
   "outputs": [],
   "source": [
    "for idx, customer_id in enumerate(customer_features['CustomerID']):\n",
    "    similar_indicies = similarity_matrix[idx].argsort()[::-1][1:4]\n",
    "    similar_customers = customer_features.iloc[similar_indicies]['CustomerID'].values\n",
    "    similarity_scores = similarity_matrix[idx][similar_indicies]\n",
    "    lookalike_results[customer_id] = list(zip(similar_customers,similarity_scores))"
   ]
  },
  {
   "cell_type": "code",
   "execution_count": 51,
   "id": "7e5fa2d9-a5b0-455b-ab40-56304f8592c8",
   "metadata": {},
   "outputs": [],
   "source": [
    "lookalike_list=[]\n",
    "for customer_id, lookalikes in lookalike_results.items():\n",
    "    for similar_id, score in lookalikes:\n",
    "        lookalike_list.append({'cust_id':customer_id,'similar_cust_id':similar_id, 'score':score})\n",
    "lookalike_df = pd.DataFrame(lookalike_list)\n",
    "lookalike_df.to_csv('Lookalike.csv',index=False)"
   ]
  },
  {
   "cell_type": "code",
   "execution_count": 55,
   "id": "72688a5a-fbc2-47f9-8e62-14e81aea5fd4",
   "metadata": {},
   "outputs": [
    {
     "name": "stdout",
     "output_type": "stream",
     "text": [
      "Top 3 lookalikes for first 20 customers:\n",
      "   cust_id similar_cust_id     score\n",
      "0    C0001           C0192  0.991830\n",
      "1    C0001           C0184  0.987201\n",
      "2    C0001           C0091  0.984834\n",
      "3    C0002           C0159  0.974162\n",
      "4    C0002           C0128  0.901457\n",
      "5    C0002           C0090  0.882338\n",
      "6    C0003           C0052  0.999563\n",
      "7    C0003           C0076  0.992866\n",
      "8    C0003           C0195  0.989499\n",
      "9    C0004           C0108  0.998212\n",
      "10   C0004           C0113  0.997400\n",
      "11   C0004           C0104  0.987828\n",
      "12   C0005           C0007  0.992184\n",
      "13   C0005           C0140  0.962011\n",
      "14   C0005           C0045  0.918859\n",
      "15   C0006           C0187  0.988664\n",
      "16   C0006           C0126  0.978177\n",
      "17   C0006           C0137  0.973324\n",
      "18   C0007           C0005  0.992184\n",
      "19   C0007           C0140  0.959034\n",
      "20   C0007           C0045  0.934189\n",
      "21   C0008           C0098  0.982737\n",
      "22   C0008           C0156  0.979190\n",
      "23   C0008           C0034  0.976531\n",
      "24   C0009           C0010  0.983297\n",
      "25   C0009           C0062  0.979408\n",
      "26   C0009           C0111  0.967449\n",
      "27   C0010           C0062  0.995860\n",
      "28   C0010           C0009  0.983297\n",
      "29   C0010           C0198  0.973419\n",
      "30   C0011           C0169  0.994132\n",
      "31   C0011           C0174  0.993662\n",
      "32   C0011           C0171  0.987169\n",
      "33   C0012           C0039  0.996806\n",
      "34   C0012           C0195  0.996465\n",
      "35   C0012           C0181  0.987358\n",
      "36   C0013           C0099  0.970908\n",
      "37   C0013           C0107  0.966673\n",
      "38   C0013           C0158  0.964996\n",
      "39   C0014           C0172  0.953382\n",
      "40   C0014           C0081  0.931299\n",
      "41   C0014           C0164  0.922231\n",
      "42   C0015           C0189  0.979680\n",
      "43   C0015           C0116  0.959601\n",
      "44   C0015           C0038  0.917964\n",
      "45   C0016           C0117  0.981265\n",
      "46   C0016           C0024  0.979569\n",
      "47   C0016           C0185  0.969276\n",
      "48   C0017           C0075  0.986163\n",
      "49   C0017           C0041  0.984829\n",
      "50   C0017           C0057  0.978441\n",
      "51   C0018           C0026  0.995812\n",
      "52   C0018           C0183  0.992121\n",
      "53   C0018           C0154  0.987041\n",
      "54   C0019           C0121  0.966846\n",
      "55   C0019           C0119  0.964180\n",
      "56   C0019           C0017  0.962164\n",
      "57   C0020           C0050  0.984857\n",
      "58   C0020           C0026  0.975907\n",
      "59   C0020           C0035  0.972382\n"
     ]
    }
   ],
   "source": [
    "print(\"Top 3 lookalikes for first 20 customers:\")\n",
    "print(lookalike_df[lookalike_df['cust_id'].isin(customers['CustomerID'][:20])])"
   ]
  },
  {
   "cell_type": "code",
   "execution_count": 56,
   "id": "c4d024d5-e4d7-41cd-9988-3b3432f5c321",
   "metadata": {},
   "outputs": [
    {
     "name": "stdout",
     "output_type": "stream",
     "text": [
      "   cust_id similar_cust_id     score\n",
      "12   C0005           C0007  0.992184\n",
      "13   C0005           C0140  0.962011\n",
      "14   C0005           C0045  0.918859\n"
     ]
    }
   ],
   "source": [
    "customer_id = 'C0005'\n",
    "print(lookalike_df[lookalike_df['cust_id']==customer_id])"
   ]
  },
  {
   "cell_type": "code",
   "execution_count": null,
   "id": "696783f7-a469-407a-a440-a365ab8edd67",
   "metadata": {},
   "outputs": [],
   "source": []
  }
 ],
 "metadata": {
  "kernelspec": {
   "display_name": "Python 3 (ipykernel)",
   "language": "python",
   "name": "python3"
  },
  "language_info": {
   "codemirror_mode": {
    "name": "ipython",
    "version": 3
   },
   "file_extension": ".py",
   "mimetype": "text/x-python",
   "name": "python",
   "nbconvert_exporter": "python",
   "pygments_lexer": "ipython3",
   "version": "3.11.8"
  }
 },
 "nbformat": 4,
 "nbformat_minor": 5
}
